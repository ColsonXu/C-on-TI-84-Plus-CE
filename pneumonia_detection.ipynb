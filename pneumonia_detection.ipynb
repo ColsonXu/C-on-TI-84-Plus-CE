{
  "nbformat": 4,
  "nbformat_minor": 0,
  "metadata": {
    "kernelspec": {
      "display_name": "Python 3",
      "language": "python",
      "name": "python3"
    },
    "language_info": {
      "codemirror_mode": {
        "name": "ipython",
        "version": 3
      },
      "file_extension": ".py",
      "mimetype": "text/x-python",
      "name": "python",
      "nbconvert_exporter": "python",
      "pygments_lexer": "ipython3",
      "version": "3.8.2"
    },
    "colab": {
      "name": "pneumonia-detection.ipynb",
      "provenance": [],
      "include_colab_link": true
    }
  },
  "cells": [
    {
      "cell_type": "markdown",
      "metadata": {
        "id": "view-in-github",
        "colab_type": "text"
      },
      "source": [
        "<a href=\"https://colab.research.google.com/github/ColsonXu/C-on-TI-84-Plus-CE/blob/master/pneumonia_detection.ipynb\" target=\"_parent\"><img src=\"https://colab.research.google.com/assets/colab-badge.svg\" alt=\"Open In Colab\"/></a>"
      ]
    },
    {
      "cell_type": "markdown",
      "metadata": {
        "id": "bkCIFVsPdXcd",
        "colab_type": "text"
      },
      "source": [
        "# Pneumonia Detection from Chest X-Ray\n",
        "\n",
        "Detection of lesions from X-Ray has always been a difficult topic to tackle. Doctors train for many years so that they can tell weather there is something wrong with the patient. It has always been the way medical imagery worked in hospitals. However, recent experiments discovered that deep learning, a branch of artificial intellegence, is able to detect abnormalities from images of X-Ray faster and more accurate than a doctor can do. With this in mind, and considering the recent SARS-COV-2 outbreak, I am designing a deep learning model to detect pneumonia cases from X-Ray.\n",
        "\n",
        "## Data\n",
        "Kermany, Daniel; Zhang, Kang; Goldbaum, Michael (2018), “Labeled Optical Coherence Tomography (OCT) and Chest X-Ray Images for Classification”, Mendeley Data, v2\n",
        "http://dx.doi.org/10.17632/rscbjbr9sj.2\n",
        "\n",
        "Liscense: [CC BY 4.0](https://creativecommons.org/licenses/by/4.0/)"
      ]
    },
    {
      "cell_type": "code",
      "metadata": {
        "id": "eW1op4DxdXch",
        "colab_type": "code",
        "colab": {}
      },
      "source": [
        "!pip install jovian --upgrade -q\n",
        "import os\n",
        "import torch\n",
        "import shutil\n",
        "import jovian\n",
        "import zipfile\n",
        "import torchvision\n",
        "import torch.nn as nn\n",
        "import matplotlib.cm as cm\n",
        "import matplotlib.pyplot as plt\n",
        "import torch.nn.functional as F\n",
        "from torchvision.utils import make_grid\n",
        "from torch.utils.data import random_split\n",
        "from torchvision.transforms import ToTensor\n",
        "from torchvision.datasets import ImageFolder\n",
        "from torch.utils.data.dataloader import DataLoader\n",
        "from torchvision.datasets.utils import download_url"
      ],
      "execution_count": null,
      "outputs": []
    },
    {
      "cell_type": "code",
      "metadata": {
        "id": "b7r2SsIKdXcr",
        "colab_type": "code",
        "colab": {}
      },
      "source": [
        "project_name='pneumonia-detection'"
      ],
      "execution_count": null,
      "outputs": []
    },
    {
      "cell_type": "markdown",
      "metadata": {
        "id": "ffUYyV43dXc1",
        "colab_type": "text"
      },
      "source": [
        "## Download the Dataset"
      ]
    },
    {
      "cell_type": "code",
      "metadata": {
        "id": "AwtpHaI2dXc3",
        "colab_type": "code",
        "colab": {},
        "outputId": "6fdab9f3-e0cc-4b4e-d22e-938723875138"
      },
      "source": [
        "dataset_url = 'https://md-datasets-public-files-prod.s3.eu-west-1.amazonaws.com/31ab5ede-ed34-46d4-b1bf-c63d70411497'\n",
        "download_url(dataset_url, '.', 'data.zip')"
      ],
      "execution_count": null,
      "outputs": [
        {
          "output_type": "stream",
          "text": [
            "Using downloaded and verified file: .\\data.zip\n"
          ],
          "name": "stdout"
        }
      ]
    },
    {
      "cell_type": "code",
      "metadata": {
        "id": "lNkpxvqydXdB",
        "colab_type": "code",
        "colab": {}
      },
      "source": [
        "with zipfile.ZipFile('./data.zip', 'r') as zip_ref:\n",
        "    for file in zip_ref.namelist():\n",
        "        if file.startswith('chest'):\n",
        "            zip_ref.extract(file, './data')"
      ],
      "execution_count": null,
      "outputs": []
    },
    {
      "cell_type": "code",
      "metadata": {
        "id": "Iqxgo9PLdXdH",
        "colab_type": "code",
        "colab": {}
      },
      "source": [
        "data_dir = './data/chest_xray'"
      ],
      "execution_count": null,
      "outputs": []
    },
    {
      "cell_type": "markdown",
      "metadata": {
        "id": "2dXRLDt7dXdO",
        "colab_type": "text"
      },
      "source": [
        "## Cleaning Up the Data"
      ]
    },
    {
      "cell_type": "markdown",
      "metadata": {
        "id": "dC95YtYYdXdQ",
        "colab_type": "text"
      },
      "source": [
        "The X-Ray data is split into a training folder and a test folder. Under each of those folders, there are two folders called 'NORMAL' and 'PNEUMONIA'. It also contains '.DS._Store' files which we do not want."
      ]
    },
    {
      "cell_type": "code",
      "metadata": {
        "id": "c6DRW8yzdXdR",
        "colab_type": "code",
        "colab": {}
      },
      "source": [
        "for parent, dirnames, filenames in os.walk(data_dir):\n",
        "    for fname in filenames:\n",
        "        if fname.endswith('Store'):\n",
        "            os.remove(os.path.join(parent, fname))"
      ],
      "execution_count": null,
      "outputs": []
    },
    {
      "cell_type": "markdown",
      "metadata": {
        "id": "8ad-ETExdXdX",
        "colab_type": "text"
      },
      "source": [
        "After some inspection I discovered that in the 'PNEUMONIA' folders, images are labeled either 'virus' or 'bacteria' indicating the cause of pneumonia. I want the model to be able to identify the cause as well. To achieve that, I first need to seperate those images into two folders."
      ]
    },
    {
      "cell_type": "code",
      "metadata": {
        "id": "lAMhACaDdXdY",
        "colab_type": "code",
        "colab": {}
      },
      "source": [
        "def classify_image(dir):\n",
        "    # define directories\n",
        "    PNEUMONIA = os.path.join(dir, 'PNEUMONIA')\n",
        "    VIRUS = os.path.join(dir, 'VIRUS')\n",
        "    BACTERIA = os.path.join(dir, 'BACTERIA')\n",
        "    \n",
        "    # create folders if doesn't exist\n",
        "    for path in [PNEUMONIA, VIRUS, BACTERIA]:\n",
        "        if not os.path.exists(path):\n",
        "            os.mkdir(path)\n",
        "\n",
        "    # move files into corresponding folders\n",
        "    for file in os.listdir(PNEUMONIA):\n",
        "        if 'virus' in file:\n",
        "            shutil.move(os.path.join(PNEUMONIA, file), os.path.join(VIRUS, file))\n",
        "        elif 'bacteria' in file:\n",
        "            shutil.move(os.path.join(PNEUMONIA, file), os.path.join(BACTERIA, file))\n",
        "    \n",
        "    # delete empty folder\n",
        "    if os.path.exists(PNEUMONIA):\n",
        "        shutil.rmtree(PNEUMONIA)"
      ],
      "execution_count": null,
      "outputs": []
    },
    {
      "cell_type": "code",
      "metadata": {
        "id": "EU_3WyEIdXdd",
        "colab_type": "code",
        "colab": {}
      },
      "source": [
        "classify_image(os.path.join(data_dir, 'train'))\n",
        "classify_image(os.path.join(data_dir, 'test'))"
      ],
      "execution_count": null,
      "outputs": []
    },
    {
      "cell_type": "markdown",
      "metadata": {
        "id": "u1fdmIYpdXdh",
        "colab_type": "text"
      },
      "source": [
        "## Pre-processing\n",
        "After cleaning up the data, I immedietly discovered a problem. That is the X-Ray images have vastly different dimensions, some are 832x416, and some are 1680x1328. This is bit of a challenge because they all need to be of the same size (resolution and aspect ratio) before feeding into the model. To process the image, I plan to use `torchvision.transform.functional.resize()` to bring the short side of image to a certain size and then center crop the outputs."
      ]
    },
    {
      "cell_type": "code",
      "metadata": {
        "id": "V4A1M9zMdXdj",
        "colab_type": "code",
        "colab": {}
      },
      "source": [
        "def normalize():\n",
        "    return torchvision.transforms.Compose([\n",
        "               torchvision.transforms.Grayscale(),\n",
        "               torchvision.transforms.Resize(400),\n",
        "               torchvision.transforms.CenterCrop(400),\n",
        "               torchvision.transforms.ToTensor()\n",
        "           ])"
      ],
      "execution_count": null,
      "outputs": []
    },
    {
      "cell_type": "code",
      "metadata": {
        "id": "sArg1C8odXdo",
        "colab_type": "code",
        "colab": {}
      },
      "source": [
        "dataset = ImageFolder(data_dir+'/train', transform=normalize())"
      ],
      "execution_count": null,
      "outputs": []
    },
    {
      "cell_type": "code",
      "metadata": {
        "id": "1BKQj6g3dXdu",
        "colab_type": "code",
        "colab": {},
        "outputId": "7f999fa3-0fb1-4d10-a43e-c9f573c70503"
      },
      "source": [
        "img, lable = dataset[0]\n",
        "img.shape"
      ],
      "execution_count": null,
      "outputs": [
        {
          "output_type": "execute_result",
          "data": {
            "text/plain": [
              "torch.Size([1, 400, 400])"
            ]
          },
          "metadata": {
            "tags": []
          },
          "execution_count": 11
        }
      ]
    },
    {
      "cell_type": "markdown",
      "metadata": {
        "id": "_snO-2JfdXdz",
        "colab_type": "text"
      },
      "source": [
        "## Validation & Training Datasets"
      ]
    },
    {
      "cell_type": "markdown",
      "metadata": {
        "id": "INsY_qdMdXd1",
        "colab_type": "text"
      },
      "source": [
        "I want another set of data for validation purposes. To do that, I will use `random_split` to create another batch of data containing 500 X-Ray images for each normal and infected cases. In order for the validation set to be consistant, I will set a random seed for `random_split`."
      ]
    },
    {
      "cell_type": "code",
      "metadata": {
        "id": "pT5cqxQHdXd3",
        "colab_type": "code",
        "colab": {},
        "outputId": "b4abc6e2-cd01-404d-fa6f-47cbc401758e"
      },
      "source": [
        "random_seed = 42\n",
        "torch.manual_seed(random_seed)"
      ],
      "execution_count": null,
      "outputs": [
        {
          "output_type": "execute_result",
          "data": {
            "text/plain": [
              "<torch._C.Generator at 0x15076db33b0>"
            ]
          },
          "metadata": {
            "tags": []
          },
          "execution_count": 12
        }
      ]
    },
    {
      "cell_type": "code",
      "metadata": {
        "id": "-1DVosgBdXd8",
        "colab_type": "code",
        "colab": {},
        "outputId": "a82d5af2-387c-44ff-ea42-6295101b034e"
      },
      "source": [
        "val_size = 100\n",
        "train_size = len(dataset) - val_size\n",
        "\n",
        "train_ds, val_ds = random_split(dataset, [train_size, val_size])\n",
        "len(train_ds), len(val_ds)"
      ],
      "execution_count": null,
      "outputs": [
        {
          "output_type": "execute_result",
          "data": {
            "text/plain": [
              "(5132, 100)"
            ]
          },
          "metadata": {
            "tags": []
          },
          "execution_count": 13
        }
      ]
    },
    {
      "cell_type": "code",
      "metadata": {
        "id": "zLeQ4W00dXeB",
        "colab_type": "code",
        "colab": {}
      },
      "source": [
        "batch_size = 100"
      ],
      "execution_count": null,
      "outputs": []
    },
    {
      "cell_type": "code",
      "metadata": {
        "id": "mPODZ0NDdXeG",
        "colab_type": "code",
        "colab": {}
      },
      "source": [
        "train_dl = DataLoader(train_ds, batch_size, shuffle=True, pin_memory=True)\n",
        "val_dl = DataLoader(val_ds, batch_size*2, pin_memory=True)"
      ],
      "execution_count": null,
      "outputs": []
    },
    {
      "cell_type": "markdown",
      "metadata": {
        "id": "HsqVNAErdXeL",
        "colab_type": "text"
      },
      "source": [
        "## Exploring the Data\n",
        "The training data consists of 4732 X-Ray images of people who are healthy, infected by bacteria, and infected by virus. Let's take a look at some sample images."
      ]
    },
    {
      "cell_type": "code",
      "metadata": {
        "id": "WdQgEF7EdXeM",
        "colab_type": "code",
        "colab": {}
      },
      "source": [
        "def show_example(img, label):\n",
        "    print('Label: ', dataset.classes[label], \"(\"+str(label)+\")\")\n",
        "    img = torchvision.transforms.functional.to_pil_image(img)\n",
        "    plt.imshow(img)"
      ],
      "execution_count": null,
      "outputs": []
    },
    {
      "cell_type": "code",
      "metadata": {
        "id": "Hefy-mN-dXeU",
        "colab_type": "code",
        "colab": {},
        "outputId": "6853e270-25a5-46bf-835e-c21b5f542225"
      },
      "source": [
        "show_example(*dataset[290])"
      ],
      "execution_count": null,
      "outputs": [
        {
          "output_type": "stream",
          "text": [
            "Label:  BACTERIA (0)\n"
          ],
          "name": "stdout"
        },
        {
          "output_type": "display_data",
          "data": {
            "image/png": "[encoded data removed]",
            "text/plain": [
              "<Figure size 432x288 with 1 Axes>"
            ]
          },
          "metadata": {
            "tags": [],
            "needs_background": "light"
          }
        }
      ]
    },
    {
      "cell_type": "code",
      "metadata": {
        "id": "TF8_OtondXea",
        "colab_type": "code",
        "colab": {},
        "outputId": "f3857194-3a56-4a27-e12c-337c914afa7d"
      },
      "source": [
        "jovian.commit(project=project_name)"
      ],
      "execution_count": null,
      "outputs": [
        {
          "output_type": "display_data",
          "data": {
            "application/javascript": [
              "window.require && require([\"base/js/namespace\"],function(Jupyter){Jupyter.notebook.save_checkpoint()})"
            ],
            "text/plain": [
              "<IPython.core.display.Javascript object>"
            ]
          },
          "metadata": {
            "tags": []
          }
        },
        {
          "output_type": "stream",
          "text": [
            "[jovian] Attempting to save notebook..\r\n"
          ],
          "name": "stdout"
        }
      ]
    },
    {
      "cell_type": "markdown",
      "metadata": {
        "id": "9IWDkVuRdXee",
        "colab_type": "text"
      },
      "source": [
        "## Defining the Model\n",
        "I am using a Convolutional Neural Network, ResNet to be exact, to solve the problem. The 2D convolution is just a kernel (a matrix of weights) scanning through an image and perform element-wise multiplication with the part of the image it's currently on and summing up the results into a single pixel.\n",
        "![Kernel](https://miro.medium.com/max/1070/1*Zx-ZMLKab7VOCQTxdZ1OAw.gif)\n",
        "The convolutional layer transforms a image into a multi-channel feature map. Then we use a pooling layer to downsize the \"image\". We repeat the process until we have a fully connected layer. We keep increasing the channel (features) of the image because it is where the logic of CNN happens.\n",
        "![CNN](https://i.imgur.com/KKtPOKE.png)"
      ]
    },
    {
      "cell_type": "code",
      "metadata": {
        "id": "RAKTzX5bdXef",
        "colab_type": "code",
        "colab": {}
      },
      "source": [
        "def accuracy(outputs, labels):\n",
        "    _, preds = torch.max(outputs, dim=1)\n",
        "    return torch.tensor(torch.sum(preds == labels).item() / len(preds))\n",
        "\n",
        "class ImageClassificationBase(nn.Module):\n",
        "    def training_step(self, batch):\n",
        "        images, labels = batch\n",
        "        out = self(images)\n",
        "        loss = F.cross_entropy(out, labels)\n",
        "        return loss\n",
        "\n",
        "    def validation_step(self, batch):\n",
        "        images, labels = batch\n",
        "        out = self(images)\n",
        "        loss = F.cross_entropy(out, labels)\n",
        "        acc = accuracy(out, labels)\n",
        "        return {'val_loss': loss.detach(), 'val_acc': acc}\n",
        "\n",
        "    def validation_epoch_end(self, outputs):\n",
        "        batch_losses = [x['val_loss'] for x in outputs]\n",
        "        epoch_loss = torch.stack(batch_losses).mean()\n",
        "        batch_accs = [x['val_acc'] for x in outputs]\n",
        "        epoch_acc = torch.stack(batch_accs).mean()\n",
        "        return {'val_loss': epoch_loss.item(), 'val_acc': epoch_acc.item()}\n",
        "\n",
        "    def epoch_end(self, epoch, result):\n",
        "        print(\"Epoch [{}], train_loss: {:.4f}, val_loss: {:.4f}, val_acc: {:.4f}\".format(\n",
        "            epoch, result['train_loss'], result['val_loss'], result['val_acc']))"
      ],
      "execution_count": null,
      "outputs": []
    },
    {
      "cell_type": "code",
      "metadata": {
        "id": "qsu2MrD7dXel",
        "colab_type": "code",
        "colab": {}
      },
      "source": [
        "class PDCnnModel(ImageClassificationBase):\n",
        "    def __init__(self):\n",
        "        super().__init__()\n",
        "        kernel = 3\n",
        "        stride = 1\n",
        "        padding = 1\n",
        "        self.network = nn.Sequential(\n",
        "            nn.Conv2d(1, 32, kernel_size=kernel, padding=padding),\n",
        "            nn.ReLU(),\n",
        "            nn.Conv2d(32, 128, kernel_size=kernel, stride=stride, padding=padding),\n",
        "            nn.ReLU(),\n",
        "            nn.MaxPool2d(2, 2),\n",
        "\n",
        "            nn.Conv2d(128, 270, kernel_size=kernel, stride=stride, padding=padding),\n",
        "            nn.ReLU(),\n",
        "#             nn.Conv2d(270, 270, kernel_size=kernel, stride=stride, padding=padding),\n",
        "#             nn.ReLU(),\n",
        "            nn.MaxPool2d(2, 2),\n",
        "\n",
        "            nn.Conv2d(270, 400, kernel_size=kernel, stride=stride, padding=padding),\n",
        "            nn.ReLU(),\n",
        "#             nn.Conv2d(400, 400, kernel_size=kernel, stride=stride, padding=padding),\n",
        "#             nn.ReLU(),\n",
        "            nn.MaxPool2d(2, 2),\n",
        "\n",
        "            nn.Flatten(),\n",
        "            nn.Linear(3000, 1000),\n",
        "            nn.ReLU(),\n",
        "            nn.Linear(1000, 250),\n",
        "            nn.ReLU(),\n",
        "            nn.Linear(250, 3),\n",
        "        )\n",
        "        \n",
        "    def forward(self, xb):\n",
        "        return self.network(xb)"
      ],
      "execution_count": null,
      "outputs": []
    },
    {
      "cell_type": "code",
      "metadata": {
        "id": "TjbJdsPqdXep",
        "colab_type": "code",
        "colab": {}
      },
      "source": [
        "model = PDCnnModel()"
      ],
      "execution_count": null,
      "outputs": []
    },
    {
      "cell_type": "markdown",
      "metadata": {
        "id": "iMQ-q_svdXew",
        "colab_type": "text"
      },
      "source": [
        "We will now check if our model works properly by feeding in a batch of data."
      ]
    },
    {
      "cell_type": "code",
      "metadata": {
        "id": "pA7SpD9UdXey",
        "colab_type": "code",
        "colab": {}
      },
      "source": [
        "for images, labels in train_dl:\n",
        "    print('images.shape:', images.shape)\n",
        "    out = model(images)\n",
        "    print('out.shape:', out.shape)\n",
        "    print('out[0]:', out[0])\n",
        "    break"
      ],
      "execution_count": null,
      "outputs": []
    },
    {
      "cell_type": "markdown",
      "metadata": {
        "id": "wDotYMNidXe2",
        "colab_type": "text"
      },
      "source": [
        "To enable GPU acceleration, I will write a helper class to wrap the current `DataLoader` to transfer the data to GPU when called."
      ]
    },
    {
      "cell_type": "code",
      "metadata": {
        "id": "4B59XjvSdXe3",
        "colab_type": "code",
        "colab": {}
      },
      "source": [
        "def get_default_device():\n",
        "    if torch.cuda.is_available():\n",
        "        return torch.device('cuda')\n",
        "    else:\n",
        "        return torch.device('cpu')\n",
        "    \n",
        "def to_device(data, device):\n",
        "    if isinstance(data, (list,tuple)):\n",
        "        return [to_device(x, device) for x in data]\n",
        "    return data.to(device, non_blocking=True)\n",
        "\n",
        "class DeviceDataLoader():\n",
        "    def __init__(self, dl, device):\n",
        "        self.dl = dl\n",
        "        self.device = device\n",
        "        \n",
        "    def __iter__(self):\n",
        "        for b in self.dl: \n",
        "            yield to_device(b, self.device)\n",
        "\n",
        "    def __len__(self):\n",
        "        return len(self.dl)"
      ],
      "execution_count": null,
      "outputs": []
    },
    {
      "cell_type": "code",
      "metadata": {
        "id": "LoUUugy6dXe7",
        "colab_type": "code",
        "colab": {}
      },
      "source": [
        "device = get_default_device()\n",
        "device"
      ],
      "execution_count": null,
      "outputs": []
    },
    {
      "cell_type": "code",
      "metadata": {
        "id": "hOnmKwWfdXfA",
        "colab_type": "code",
        "colab": {}
      },
      "source": [
        "train_dl = DeviceDataLoader(train_dl, device)\n",
        "val_dl = DeviceDataLoader(val_dl, device)\n",
        "to_device(model, device)"
      ],
      "execution_count": null,
      "outputs": []
    },
    {
      "cell_type": "code",
      "metadata": {
        "id": "5EMsAJJydXfC",
        "colab_type": "code",
        "colab": {}
      },
      "source": [
        "torch.cuda.empty_cache()"
      ],
      "execution_count": null,
      "outputs": []
    },
    {
      "cell_type": "markdown",
      "metadata": {
        "id": "WvCT6CMHdXfG",
        "colab_type": "text"
      },
      "source": [
        "## Training the Model"
      ]
    },
    {
      "cell_type": "code",
      "metadata": {
        "id": "UyMH-zqmdXfH",
        "colab_type": "code",
        "colab": {}
      },
      "source": [
        "@torch.no_grad() # tells pytorch not to track gradients\n",
        "def evaluate(model, val_loader):\n",
        "    model.eval()\n",
        "    outputs = [model.validation_step(batch) for batch in val_loader]\n",
        "    return model.validation_epoch_end(outputs)\n",
        "\n",
        "def fit(epochs, lr, model, train_loader, val_loader, opt_func=torch.optim.SGD):\n",
        "    history = []\n",
        "    optimizer = opt_func(model.parameters(), lr)\n",
        "    for epoch in range(epochs):\n",
        "        # Training Phase \n",
        "        model.train()\n",
        "        train_losses = []\n",
        "        for batch in train_loader:\n",
        "            loss = model.training_step(batch)\n",
        "            train_losses.append(loss)\n",
        "            loss.backward()\n",
        "            optimizer.step()\n",
        "            optimizer.zero_grad()\n",
        "        # Validation phase\n",
        "        result = evaluate(model, val_loader)\n",
        "        result['train_loss'] = torch.stack(train_losses).mean().item()\n",
        "        model.epoch_end(epoch, result)\n",
        "        history.append(result)\n",
        "    return history"
      ],
      "execution_count": null,
      "outputs": []
    },
    {
      "cell_type": "code",
      "metadata": {
        "id": "54XsJ6opdXfK",
        "colab_type": "code",
        "colab": {}
      },
      "source": [
        "evaluate(model, val_dl)"
      ],
      "execution_count": null,
      "outputs": []
    },
    {
      "cell_type": "markdown",
      "metadata": {
        "id": "MG8fTWp8dXfO",
        "colab_type": "text"
      },
      "source": [
        "Initially we can achieve an accuracy of approximately 26%. Now we are going to start training the model. I have selected a Adam as the optimizer."
      ]
    },
    {
      "cell_type": "code",
      "metadata": {
        "id": "CYT5IjeCdXfQ",
        "colab_type": "code",
        "colab": {}
      },
      "source": [
        "num_epochs = 3\n",
        "opt_func = torch.optim.Adam\n",
        "lr = 0.001"
      ],
      "execution_count": null,
      "outputs": []
    },
    {
      "cell_type": "code",
      "metadata": {
        "id": "tI4eMJD-dXfU",
        "colab_type": "code",
        "colab": {}
      },
      "source": [
        "jovian.reset()\n",
        "jovian.log_hyperparams({\n",
        "    'num_epochs': num_epochs,\n",
        "    'opt_func': opt_func.__name__,\n",
        "    'batch_size': batch_size,\n",
        "    'lr': lr,\n",
        "})"
      ],
      "execution_count": null,
      "outputs": []
    },
    {
      "cell_type": "code",
      "metadata": {
        "id": "2YqryBKedXfX",
        "colab_type": "code",
        "colab": {}
      },
      "source": [
        "history = fit(num_epochs, lr, model, train_dl, val_dl, opt_func)"
      ],
      "execution_count": null,
      "outputs": []
    },
    {
      "cell_type": "code",
      "metadata": {
        "id": "FxCLCBgbdXfZ",
        "colab_type": "code",
        "colab": {}
      },
      "source": [
        "history = fit(num_epochs, lr, model, train_dl, val_dl, opt_func)"
      ],
      "execution_count": null,
      "outputs": []
    }
  ]
}